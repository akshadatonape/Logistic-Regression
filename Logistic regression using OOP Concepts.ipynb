{
 "cells": [
  {
   "cell_type": "markdown",
   "metadata": {},
   "source": [
    "# Logistic Regression [using OOP Concepts]\n",
    " Name:Akshada Tonape\n",
    " \n",
    " Roll No:39\n",
    " "
   ]
  },
  {
   "cell_type": "code",
   "execution_count": 50,
   "metadata": {},
   "outputs": [],
   "source": [
    "class LogisticRegression():\n",
    "    import pandas as pd\n",
    "    import numpy as np\n",
    "    import seaborn as sns\n",
    "    import matplotlib.pyplot as plt\n",
    "    %matplotlib inline\n",
    "    \n",
    "    def _init(self):\n",
    "        pass\n",
    "    def read_excel(self, file):\n",
    "        self.df = self.pd.read_excel(file)\n",
    "    def data(self):\n",
    "        print(self.df.head())\n",
    "    def datafetch(self):\n",
    "        self.x=self.df.iloc[:,[2,3]].values\n",
    "        self.y=self.df.iloc[:,4].values\n",
    "    def split(self):\n",
    "        from sklearn.model_selection import train_test_split\n",
    "        self.xtrain,self.xtest,self.ytrain,self.ytest=train_test_split(self.x,self.y,test_size=0.3,random_state=1)\n",
    "    def tranform(self):\n",
    "        from sklearn.preprocessing import StandardScaler\n",
    "        sc=StandardScaler()\n",
    "        self.xtrain=sc.fit_transform(self.xtrain)\n",
    "        self.xtest=sc.fit_transform(self.xtest)\n",
    "    def model(self):\n",
    "        from sklearn.linear_model import LogisticRegression\n",
    "        from sklearn.metrics import classification_report\n",
    "        from sklearn.metrics import confusion_matrix\n",
    "        from sklearn.metrics import accuracy_score\n",
    "        model=LogisticRegression(random_state=0)\n",
    "        model.fit(self.xtrain,self.ytrai n)\n",
    "        predictions=model.predict(self.xtest)\n",
    "        print(\"***Classification report***\")\n",
    "        print(classification_report(self.ytest,predictions))\n",
    "        print(\"***Accuracy***\")\n",
    "        print(accuracy_score(self.ytest,predictions)*100)"
   ]
  },
  {
   "cell_type": "code",
   "execution_count": 52,
   "metadata": {},
   "outputs": [
    {
     "name": "stdout",
     "output_type": "stream",
     "text": [
      "***Data***\n",
      "    User ID  Gender  Age  EstimatedSalary  Purchased\n",
      "0  15624510    Male   19            19000          0\n",
      "1  15810944    Male   35            20000          0\n",
      "2  15668575  Female   26            43000          0\n",
      "3  15603246  Female   27            57000          0\n",
      "4  15804002    Male   19            76000          0\n",
      "***Classification report***\n",
      "              precision    recall  f1-score   support\n",
      "\n",
      "           0       0.78      0.90      0.84        72\n",
      "           1       0.81      0.62      0.71        48\n",
      "\n",
      "    accuracy                           0.79       120\n",
      "   macro avg       0.80      0.76      0.77       120\n",
      "weighted avg       0.79      0.79      0.79       120\n",
      "\n",
      "***Accuracy***\n",
      "79.16666666666666\n"
     ]
    },
    {
     "name": "stderr",
     "output_type": "stream",
     "text": [
      "C:\\Users\\Akshada\\Anaconda3\\lib\\site-packages\\sklearn\\linear_model\\logistic.py:432: FutureWarning: Default solver will be changed to 'lbfgs' in 0.22. Specify a solver to silence this warning.\n",
      "  FutureWarning)\n"
     ]
    }
   ],
   "source": [
    "obj=LogisticRegression()\n",
    "obj.read_excel(\"suvdataset.xlsx\")\n",
    "print(\"***Data***\")\n",
    "obj.data()\n",
    "obj.datafetch()\n",
    "obj.split()\n",
    "obj.tranform()\n",
    "obj.model()"
   ]
  },
  {
   "cell_type": "code",
   "execution_count": null,
   "metadata": {},
   "outputs": [],
   "source": []
  }
 ],
 "metadata": {
  "kernelspec": {
   "display_name": "Python 3",
   "language": "python",
   "name": "python3"
  },
  "language_info": {
   "codemirror_mode": {
    "name": "ipython",
    "version": 3
   },
   "file_extension": ".py",
   "mimetype": "text/x-python",
   "name": "python",
   "nbconvert_exporter": "python",
   "pygments_lexer": "ipython3",
   "version": "3.7.3"
  }
 },
 "nbformat": 4,
 "nbformat_minor": 2
}
